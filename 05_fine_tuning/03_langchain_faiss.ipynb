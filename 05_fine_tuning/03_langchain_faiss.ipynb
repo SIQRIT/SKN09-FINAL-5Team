{
 "cells": [
  {
   "cell_type": "code",
   "execution_count": null,
   "id": "770d727c",
   "metadata": {},
   "outputs": [
    {
     "name": "stderr",
     "output_type": "stream",
     "text": [
      "c:\\Users\\Playdata\\AppData\\Local\\anaconda3\\envs\\dais_env\\lib\\site-packages\\tqdm\\auto.py:21: TqdmWarning: IProgress not found. Please update jupyter and ipywidgets. See https://ipywidgets.readthedocs.io/en/stable/user_install.html\n",
      "  from .autonotebook import tqdm as notebook_tqdm\n"
     ]
    }
   ],
   "source": [
    "import faiss\n",
    "import json\n",
    "import os\n",
    "from langchain_community.vectorstores.faiss import FAISS\n",
    "from langchain_community.docstore.in_memory import InMemoryDocstore\n",
    "from langchain.schema import Document\n",
    "from sentence_transformers import SentenceTransformer\n",
    "\n",
    "# 경로 설정\n",
    "INDEX_PATH = \"./vectordb/dais_vectorstore.index\"                # 기존 .index 파일 경로\n",
    "METADATA_PATH = \"./vectordb/dais_vectorstore_meta.jsonl\"        # 기존 .jsonl 파일 경로\n",
    "OUTPUT_FOLDER = \"./vectordb/\"                                   # 변환 후 저장 폴더"
   ]
  },
  {
   "cell_type": "code",
   "execution_count": 2,
   "id": "a47a8d9a",
   "metadata": {},
   "outputs": [],
   "source": [
    "# 1. FAISS 인덱스 로드\n",
    "index = faiss.read_index(INDEX_PATH)\n",
    "\n",
    "# 2. 메타데이터(jsonl) → Document 리스트로 변환\n",
    "documents = []\n",
    "with open(METADATA_PATH, \"r\", encoding=\"utf-8\") as f:\n",
    "    for line in f:\n",
    "        meta = json.loads(line)\n",
    "        doc = Document(\n",
    "            page_content=meta.get(\"output\", \"\"),  # 문서 본문 필드명에 맞게 수정\n",
    "            metadata={k: v for k, v in meta.items() if k != \"output\"}\n",
    "        )\n",
    "        documents.append(doc)"
   ]
  },
  {
   "cell_type": "code",
   "execution_count": 3,
   "id": "c735ec4e",
   "metadata": {},
   "outputs": [],
   "source": [
    "# 3. Docstore 및 인덱스 매핑 생성\n",
    "docstore = InMemoryDocstore({str(i): doc for i, doc in enumerate(documents)})\n",
    "index_to_docstore_id = {i: str(i) for i in range(len(documents))}\n",
    "\n",
    "# 4. 임베딩 함수 준비 (예시: sentence-transformers)\n",
    "EMBEDDING_MODEL_NAME = \"nlpai-lab/KURE-v1\"\n",
    "kure_model = SentenceTransformer(EMBEDDING_MODEL_NAME)\n",
    "class KURELangChainEmbeddings:\n",
    "    def __init__(self, model):\n",
    "        self.model = model\n",
    "    def embed_documents(self, texts):\n",
    "        return self.model.encode(texts, convert_to_numpy=True, normalize_embeddings=True)\n",
    "    def embed_query(self, text):\n",
    "        return self.model.encode([text], convert_to_numpy=True, normalize_embeddings=True)[0]\n",
    "kure_lc_embeddings = KURELangChainEmbeddings(kure_model)"
   ]
  },
  {
   "cell_type": "code",
   "execution_count": 4,
   "id": "dcad40a8",
   "metadata": {},
   "outputs": [
    {
     "name": "stderr",
     "output_type": "stream",
     "text": [
      "`embedding_function` is expected to be an Embeddings object, support for passing in a function will soon be removed.\n"
     ]
    },
    {
     "name": "stdout",
     "output_type": "stream",
     "text": [
      "LangChain FAISS 벡터스토어를 ./5e-5/ 폴더에 저장 완료!\n",
      "- ./5e-5//index.faiss\n",
      "- ./5e-5//index.pkl\n"
     ]
    }
   ],
   "source": [
    "# 5. LangChain FAISS 객체 생성\n",
    "vectorstore_rag = FAISS(\n",
    "    embedding_function=kure_lc_embeddings,\n",
    "    index=index,\n",
    "    docstore=docstore,\n",
    "    index_to_docstore_id=index_to_docstore_id\n",
    ")\n",
    "\n",
    "# 6. LangChain 표준 폴더(`index.faiss`, `index.pkl`)로 저장\n",
    "os.makedirs(OUTPUT_FOLDER, exist_ok=True)\n",
    "vectorstore_rag.save_local(OUTPUT_FOLDER)\n",
    "print(f\"LangChain FAISS 벡터스토어를 {OUTPUT_FOLDER} 폴더에 저장 완료!\")\n",
    "print(f\"- {OUTPUT_FOLDER}/index.faiss\")\n",
    "print(f\"- {OUTPUT_FOLDER}/index.pkl\")"
   ]
  },
  {
   "cell_type": "code",
   "execution_count": null,
   "id": "e0985b8b",
   "metadata": {},
   "outputs": [],
   "source": []
  }
 ],
 "metadata": {
  "kernelspec": {
   "display_name": "dais_env",
   "language": "python",
   "name": "python3"
  },
  "language_info": {
   "codemirror_mode": {
    "name": "ipython",
    "version": 3
   },
   "file_extension": ".py",
   "mimetype": "text/x-python",
   "name": "python",
   "nbconvert_exporter": "python",
   "pygments_lexer": "ipython3",
   "version": "3.10.18"
  }
 },
 "nbformat": 4,
 "nbformat_minor": 5
}
