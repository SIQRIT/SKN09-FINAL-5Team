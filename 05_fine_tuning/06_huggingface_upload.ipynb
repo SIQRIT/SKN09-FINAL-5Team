{
 "cells": [
  {
   "cell_type": "markdown",
   "id": "6a9d41d3-c722-4992-92e1-46936cb25a11",
   "metadata": {},
   "source": [
    "# ================================================\n",
    "# 1. HuggingFace Hub에 Model 등록\n",
    "# ================================================"
   ]
  },
  {
   "cell_type": "code",
   "execution_count": 1,
   "id": "f545c424-6cfc-435d-b8ef-e25cc093b834",
   "metadata": {},
   "outputs": [],
   "source": [
    "import os\n",
    "from huggingface_hub import HfApi\n",
    "from huggingface_hub.utils import HfHubHTTPError\n",
    "from transformers import AutoModelForCausalLM, AutoTokenizer\n",
    "from peft import PeftModel\n",
    "import torch"
   ]
  },
  {
   "cell_type": "code",
   "execution_count": null,
   "id": "4a699c2f-20d7-47d9-bed9-983b5f29045b",
   "metadata": {},
   "outputs": [],
   "source": [
    "# 0) Hugging Face 토큰을 환경변수에서 불러오기\n",
    "\n",
    "# token = os.environ[\"HF_TOKEN\"]                    # 이미 HF_TOKEN 환경변수에 토큰이 설정되어 있다고 가정\n",
    "token = \"MY_HF_TOKEN\"                               # 또는 토큰 직접 넣어주기\n",
    "repo_id = \"SIQRIT/DAIS-Qwen3-8B-qdora\"              # HuggingFace Hub의 PEFT 체크포인트 경로\n",
    "peft_dir = \"./dais_model/\"                          # 로컬 저장소 경로"
   ]
  },
  {
   "cell_type": "code",
   "execution_count": 3,
   "id": "87eec179-a603-4144-8107-395bd7347b30",
   "metadata": {},
   "outputs": [
    {
     "name": "stdout",
     "output_type": "stream",
     "text": [
      "ℹ️ 저장소 'SIQRIT/DAIS-Qwen3-8B-qdora'가 이미 존재합니다. 계속 진행합니다.\n"
     ]
    }
   ],
   "source": [
    "# 1) 허브에 저장소(repository) 생성 (이미 있다면무시)\n",
    "\n",
    "api = HfApi()\n",
    "\n",
    "try:\n",
    "    api.create_repo(repo_id=repo_id, token=token, private=False)\n",
    "    print(f\"✅ 저장소 '{repo_id}' 생성 완료.\")\n",
    "except HfHubHTTPError:\n",
    "    # 409 Conflict 등 모든 HfHubHTTPError는 기존 리포지토리가 이미 있는 경우로 간주\n",
    "    print(f\"ℹ️ 저장소 '{repo_id}'가 이미 존재합니다. 계속 진행합니다.\")"
   ]
  },
  {
   "cell_type": "code",
   "execution_count": 4,
   "id": "55196d5b-07ac-4586-a372-a77602f8e696",
   "metadata": {},
   "outputs": [
    {
     "data": {
      "application/vnd.jupyter.widget-view+json": {
       "model_id": "c1403e607d0f4411862dd3799b3c07a5",
       "version_major": 2,
       "version_minor": 0
      },
      "text/plain": [
       "config.json:   0%|          | 0.00/728 [00:00<?, ?B/s]"
      ]
     },
     "metadata": {},
     "output_type": "display_data"
    },
    {
     "data": {
      "application/vnd.jupyter.widget-view+json": {
       "model_id": "0349fd13cf404fb68d734313ff4ccd03",
       "version_major": 2,
       "version_minor": 0
      },
      "text/plain": [
       "model.safetensors.index.json:   0%|          | 0.00/32.9k [00:00<?, ?B/s]"
      ]
     },
     "metadata": {},
     "output_type": "display_data"
    },
    {
     "data": {
      "application/vnd.jupyter.widget-view+json": {
       "model_id": "1577160a352f41c4bed3cf9404b5fd19",
       "version_major": 2,
       "version_minor": 0
      },
      "text/plain": [
       "Fetching 5 files:   0%|          | 0/5 [00:00<?, ?it/s]"
      ]
     },
     "metadata": {},
     "output_type": "display_data"
    },
    {
     "data": {
      "application/vnd.jupyter.widget-view+json": {
       "model_id": "4fc9e90261ef4d57a468a51a0976a1bf",
       "version_major": 2,
       "version_minor": 0
      },
      "text/plain": [
       "model-00002-of-00005.safetensors:   0%|          | 0.00/3.99G [00:00<?, ?B/s]"
      ]
     },
     "metadata": {},
     "output_type": "display_data"
    },
    {
     "data": {
      "application/vnd.jupyter.widget-view+json": {
       "model_id": "20a30dce3a8a43279914206bc8afd60a",
       "version_major": 2,
       "version_minor": 0
      },
      "text/plain": [
       "model-00001-of-00005.safetensors:   0%|          | 0.00/4.00G [00:00<?, ?B/s]"
      ]
     },
     "metadata": {},
     "output_type": "display_data"
    },
    {
     "data": {
      "application/vnd.jupyter.widget-view+json": {
       "model_id": "787a5cb916034d0d9195695dfa0bd05f",
       "version_major": 2,
       "version_minor": 0
      },
      "text/plain": [
       "model-00003-of-00005.safetensors:   0%|          | 0.00/3.96G [00:00<?, ?B/s]"
      ]
     },
     "metadata": {},
     "output_type": "display_data"
    },
    {
     "data": {
      "application/vnd.jupyter.widget-view+json": {
       "model_id": "dfb1caf617c64e5280c4d2b98b5cdf94",
       "version_major": 2,
       "version_minor": 0
      },
      "text/plain": [
       "model-00005-of-00005.safetensors:   0%|          | 0.00/1.24G [00:00<?, ?B/s]"
      ]
     },
     "metadata": {},
     "output_type": "display_data"
    },
    {
     "data": {
      "application/vnd.jupyter.widget-view+json": {
       "model_id": "b4df96eda3be4d96b130d4866187b1a3",
       "version_major": 2,
       "version_minor": 0
      },
      "text/plain": [
       "model-00004-of-00005.safetensors:   0%|          | 0.00/3.19G [00:00<?, ?B/s]"
      ]
     },
     "metadata": {},
     "output_type": "display_data"
    },
    {
     "data": {
      "application/vnd.jupyter.widget-view+json": {
       "model_id": "c3daa934a74d461f8112b071d629e3cd",
       "version_major": 2,
       "version_minor": 0
      },
      "text/plain": [
       "Loading checkpoint shards:   0%|          | 0/5 [00:00<?, ?it/s]"
      ]
     },
     "metadata": {},
     "output_type": "display_data"
    },
    {
     "data": {
      "application/vnd.jupyter.widget-view+json": {
       "model_id": "816bef10625c47349cf99da66b5824a7",
       "version_major": 2,
       "version_minor": 0
      },
      "text/plain": [
       "generation_config.json:   0%|          | 0.00/239 [00:00<?, ?B/s]"
      ]
     },
     "metadata": {},
     "output_type": "display_data"
    }
   ],
   "source": [
    "# 2) 베이스 모델 로드 (Qwen/Qwen3-8B)\n",
    "\n",
    "base_model = AutoModelForCausalLM.from_pretrained(\n",
    "    \"Qwen/Qwen3-8B\",\n",
    "    torch_dtype=torch.bfloat16,\n",
    "    device_map=\"auto\",\n",
    "    trust_remote_code=True\n",
    ")"
   ]
  },
  {
   "cell_type": "code",
   "execution_count": 5,
   "id": "290d6d38-650c-42fb-95c0-aed245197737",
   "metadata": {},
   "outputs": [
    {
     "name": "stderr",
     "output_type": "stream",
     "text": [
      "/usr/local/lib/python3.10/dist-packages/peft/utils/save_and_load.py:470: UserWarning: Some weights of PeftModelForCausalLM were not initialized from the model checkpoint and are being ignored because you passed `ignore_mismatched_sizes=True`: - base_model.model.lm_head.weight: found shape torch.Size([151677, 4096]) in the checkpoint and torch.Size([151936, 4096]) in the model instantiated\n",
      "- base_model.model.model.embed_tokens.base_layer.weight: found shape torch.Size([151677, 4096]) in the checkpoint and torch.Size([151936, 4096]) in the model instantiated\n",
      "- base_model.model.model.embed_tokens.lora_embedding_A.default: found shape torch.Size([64, 151677]) in the checkpoint and torch.Size([64, 151936]) in the model instantiated.\n",
      "  warnings.warn(msg)\n",
      "/usr/local/lib/python3.10/dist-packages/peft/peft_model.py:569: UserWarning: Found missing adapter keys while loading the checkpoint: ['base_model.model.model.embed_tokens.lora_embedding_A.default'].\n",
      "  warnings.warn(warn_message)\n"
     ]
    }
   ],
   "source": [
    "# 3) 로컬 PEFT 어댑터 로드\n",
    "\n",
    "peft_model = PeftModel.from_pretrained(\n",
    "    base_model,    # 위치 인자 #1: 베이스 모델 인스턴스\n",
    "    peft_dir,      # 위치 인자 #2: PEFT 체크포인트 디렉토리\n",
    "    ignore_mismatched_sizes=True,\n",
    "    device_map=\"auto\"\n",
    ")"
   ]
  },
  {
   "cell_type": "code",
   "execution_count": 6,
   "id": "62fe61b9-eef2-4670-a806-a15f6f43557c",
   "metadata": {},
   "outputs": [],
   "source": [
    "# 4) 토크나이저 로드 (스페셜 토큰 포함된 버전)\n",
    "\n",
    "tokenizer = AutoTokenizer.from_pretrained(\n",
    "    peft_dir,\n",
    "    trust_remote_code=True,\n",
    "    use_fast=True\n",
    ")"
   ]
  },
  {
   "cell_type": "code",
   "execution_count": 7,
   "id": "ccb64283-9aaf-4673-b231-e6d96b043578",
   "metadata": {},
   "outputs": [
    {
     "name": "stderr",
     "output_type": "stream",
     "text": [
      "/usr/local/lib/python3.10/dist-packages/transformers/utils/hub.py:907: FutureWarning: The `use_auth_token` argument is deprecated and will be removed in v5 of Transformers. Please use `token` instead.\n",
      "  warnings.warn(\n"
     ]
    },
    {
     "data": {
      "application/vnd.jupyter.widget-view+json": {
       "model_id": "113bacfd9c9944a7b088310661ac3afb",
       "version_major": 2,
       "version_minor": 0
      },
      "text/plain": [
       "adapter_model.safetensors:   0%|          | 0.00/744M [00:00<?, ?B/s]"
      ]
     },
     "metadata": {},
     "output_type": "display_data"
    },
    {
     "data": {
      "application/vnd.jupyter.widget-view+json": {
       "model_id": "360d511a4ac5417ba85a68d929520e92",
       "version_major": 2,
       "version_minor": 0
      },
      "text/plain": [
       "README.md:   0%|          | 0.00/5.17k [00:00<?, ?B/s]"
      ]
     },
     "metadata": {},
     "output_type": "display_data"
    },
    {
     "data": {
      "application/vnd.jupyter.widget-view+json": {
       "model_id": "b8d2170246504af985398505d86ea229",
       "version_major": 2,
       "version_minor": 0
      },
      "text/plain": [
       "tokenizer.json:   0%|          | 0.00/11.4M [00:00<?, ?B/s]"
      ]
     },
     "metadata": {},
     "output_type": "display_data"
    },
    {
     "name": "stdout",
     "output_type": "stream",
     "text": [
      "✅ 모델과 토크나이저를 'SIQRIT/DAIS-Qwen3-8B-qdora'에 성공적으로 업로드했습니다.\n"
     ]
    }
   ],
   "source": [
    "# 5) 허브에 모델과 토크나이저 업로드\n",
    "\n",
    "peft_model.push_to_hub(repo_id, use_auth_token=token)\n",
    "tokenizer.push_to_hub(repo_id, use_auth_token=token)\n",
    "\n",
    "print(f\"✅ 모델과 토크나이저를 '{repo_id}'에 성공적으로 업로드했습니다.\")"
   ]
  },
  {
   "cell_type": "markdown",
   "id": "4f1d73f8-805b-4946-8f19-d09d37bdfc6e",
   "metadata": {},
   "source": [
    "# ================================================\n",
    "# 2. 공개 저장소로 전환\n",
    "# ================================================"
   ]
  },
  {
   "cell_type": "code",
   "execution_count": 8,
   "id": "08783781-6d9d-422b-b2c7-4895d3008f42",
   "metadata": {},
   "outputs": [
    {
     "name": "stderr",
     "output_type": "stream",
     "text": [
      "/usr/local/lib/python3.10/dist-packages/huggingface_hub/utils/_deprecation.py:131: FutureWarning: 'update_repo_visibility' (from 'huggingface_hub.hf_api') is deprecated and will be removed from version '0.32'. Please use `update_repo_settings` instead.\n",
      "  warnings.warn(warning_message, FutureWarning)\n"
     ]
    },
    {
     "name": "stdout",
     "output_type": "stream",
     "text": [
      "✅ 리포지토리 'SIQRIT/DAIS-Qwen3-8B-qdora'를 공개로 전환했습니다.\n"
     ]
    }
   ],
   "source": [
    "from huggingface_hub import HfApi\n",
    "from huggingface_hub.utils import HfHubHTTPError\n",
    "\n",
    "api = HfApi()\n",
    "\n",
    "try:\n",
    "    api.update_repo_visibility(\n",
    "        repo_id=repo_id,\n",
    "        private=False,        # ← 공개로 변경\n",
    "        token=token\n",
    "    )\n",
    "    print(f\"✅ 리포지토리 '{repo_id}'를 공개로 전환했습니다.\")\n",
    "except HfHubHTTPError as e:\n",
    "    print(\"❌ 공개 전환 중 오류 발생:\", e)"
   ]
  },
  {
   "cell_type": "code",
   "execution_count": null,
   "id": "9b991e75-f745-489e-a025-7a7a22bd03af",
   "metadata": {},
   "outputs": [],
   "source": []
  }
 ],
 "metadata": {
  "kernelspec": {
   "display_name": "Python 3 (ipykernel)",
   "language": "python",
   "name": "python3"
  },
  "language_info": {
   "codemirror_mode": {
    "name": "ipython",
    "version": 3
   },
   "file_extension": ".py",
   "mimetype": "text/x-python",
   "name": "python",
   "nbconvert_exporter": "python",
   "pygments_lexer": "ipython3",
   "version": "3.10.12"
  }
 },
 "nbformat": 4,
 "nbformat_minor": 5
}
